lol = god_father import java python*
           import = pluginer.py
